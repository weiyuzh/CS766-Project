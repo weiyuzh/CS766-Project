{
 "cells": [
  {
   "cell_type": "code",
   "execution_count": 25,
   "id": "067c95ab",
   "metadata": {},
   "outputs": [],
   "source": [
    "import matplotlib.pyplot as plt\n",
    "import matplotlib.image as mpimg\n",
    "import matplotlib.patches as patches"
   ]
  },
  {
   "cell_type": "code",
   "execution_count": 26,
   "id": "db2b72d8",
   "metadata": {},
   "outputs": [],
   "source": [
    "import pandas as pd"
   ]
  },
  {
   "cell_type": "code",
   "execution_count": 27,
   "id": "41044c6b",
   "metadata": {},
   "outputs": [],
   "source": [
    "import math"
   ]
  },
  {
   "cell_type": "code",
   "execution_count": 28,
   "id": "9341a014",
   "metadata": {},
   "outputs": [],
   "source": [
    "import imageio\n",
    "from pathlib import Path"
   ]
  },
  {
   "cell_type": "code",
   "execution_count": 29,
   "id": "b5336ba2",
   "metadata": {},
   "outputs": [],
   "source": [
    "pd.options.mode.chained_assignment = None # gets rid of pandas warning message  "
   ]
  },
  {
   "cell_type": "code",
   "execution_count": 30,
   "id": "6cc69d96",
   "metadata": {
    "scrolled": false
   },
   "outputs": [
    {
     "data": {
      "image/png": "[encoded data removed]",
      "text/plain": [
       "<Figure size 432x288 with 1 Axes>"
      ]
     },
     "metadata": {
      "needs_background": "light"
     },
     "output_type": "display_data"
    }
   ],
   "source": [
    "img1 = mpimg.imread('profiler_images/D7_010_I5_Before00000000_Overlay.png')\n",
    "fig, ax = plt.subplots()\n",
    "\n",
    "ax.imshow(img1)\n",
    "\n",
    "plt.show()"
   ]
  },
  {
   "cell_type": "code",
   "execution_count": 31,
   "id": "587ae039",
   "metadata": {},
   "outputs": [
    {
     "data": {
      "text/html": [
       "<div>\n",
       "<style scoped>\n",
       "    .dataframe tbody tr th:only-of-type {\n",
       "        vertical-align: middle;\n",
       "    }\n",
       "\n",
       "    .dataframe tbody tr th {\n",
       "        vertical-align: top;\n",
       "    }\n",
       "\n",
       "    .dataframe thead th {\n",
       "        text-align: right;\n",
       "    }\n",
       "</style>\n",
       "<table border=\"1\" class=\"dataframe\">\n",
       "  <thead>\n",
       "    <tr style=\"text-align: right;\">\n",
       "      <th></th>\n",
       "      <th>x</th>\n",
       "      <th>y</th>\n",
       "      <th>ImageNumber</th>\n",
       "      <th>z</th>\n",
       "      <th>id</th>\n",
       "    </tr>\n",
       "  </thead>\n",
       "  <tbody>\n",
       "    <tr>\n",
       "      <th>0</th>\n",
       "      <td>259.283981</td>\n",
       "      <td>36.941748</td>\n",
       "      <td>1</td>\n",
       "      <td>1</td>\n",
       "      <td>0</td>\n",
       "    </tr>\n",
       "    <tr>\n",
       "      <th>1</th>\n",
       "      <td>711.103672</td>\n",
       "      <td>49.295896</td>\n",
       "      <td>1</td>\n",
       "      <td>1</td>\n",
       "      <td>0</td>\n",
       "    </tr>\n",
       "    <tr>\n",
       "      <th>2</th>\n",
       "      <td>704.746269</td>\n",
       "      <td>65.026866</td>\n",
       "      <td>1</td>\n",
       "      <td>1</td>\n",
       "      <td>0</td>\n",
       "    </tr>\n",
       "    <tr>\n",
       "      <th>3</th>\n",
       "      <td>709.737931</td>\n",
       "      <td>77.317241</td>\n",
       "      <td>1</td>\n",
       "      <td>1</td>\n",
       "      <td>0</td>\n",
       "    </tr>\n",
       "    <tr>\n",
       "      <th>4</th>\n",
       "      <td>3.650350</td>\n",
       "      <td>92.020979</td>\n",
       "      <td>1</td>\n",
       "      <td>1</td>\n",
       "      <td>0</td>\n",
       "    </tr>\n",
       "    <tr>\n",
       "      <th>...</th>\n",
       "      <td>...</td>\n",
       "      <td>...</td>\n",
       "      <td>...</td>\n",
       "      <td>...</td>\n",
       "      <td>...</td>\n",
       "    </tr>\n",
       "    <tr>\n",
       "      <th>5810</th>\n",
       "      <td>227.107143</td>\n",
       "      <td>503.702381</td>\n",
       "      <td>188</td>\n",
       "      <td>188</td>\n",
       "      <td>0</td>\n",
       "    </tr>\n",
       "    <tr>\n",
       "      <th>5811</th>\n",
       "      <td>237.622222</td>\n",
       "      <td>519.983838</td>\n",
       "      <td>188</td>\n",
       "      <td>188</td>\n",
       "      <td>0</td>\n",
       "    </tr>\n",
       "    <tr>\n",
       "      <th>5812</th>\n",
       "      <td>565.037464</td>\n",
       "      <td>590.541787</td>\n",
       "      <td>188</td>\n",
       "      <td>188</td>\n",
       "      <td>0</td>\n",
       "    </tr>\n",
       "    <tr>\n",
       "      <th>5813</th>\n",
       "      <td>35.653433</td>\n",
       "      <td>657.738197</td>\n",
       "      <td>188</td>\n",
       "      <td>188</td>\n",
       "      <td>0</td>\n",
       "    </tr>\n",
       "    <tr>\n",
       "      <th>5814</th>\n",
       "      <td>174.637681</td>\n",
       "      <td>801.198068</td>\n",
       "      <td>188</td>\n",
       "      <td>188</td>\n",
       "      <td>0</td>\n",
       "    </tr>\n",
       "  </tbody>\n",
       "</table>\n",
       "<p>5815 rows × 5 columns</p>\n",
       "</div>"
      ],
      "text/plain": [
       "               x           y  ImageNumber    z  id\n",
       "0     259.283981   36.941748            1    1   0\n",
       "1     711.103672   49.295896            1    1   0\n",
       "2     704.746269   65.026866            1    1   0\n",
       "3     709.737931   77.317241            1    1   0\n",
       "4       3.650350   92.020979            1    1   0\n",
       "...          ...         ...          ...  ...  ..\n",
       "5810  227.107143  503.702381          188  188   0\n",
       "5811  237.622222  519.983838          188  188   0\n",
       "5812  565.037464  590.541787          188  188   0\n",
       "5813   35.653433  657.738197          188  188   0\n",
       "5814  174.637681  801.198068          188  188   0\n",
       "\n",
       "[5815 rows x 5 columns]"
      ]
     },
     "execution_count": 31,
     "metadata": {},
     "output_type": "execute_result"
    }
   ],
   "source": [
    "# loading and formating data into dataframe\n",
    "df = pd.read_csv('csvs/FilterObjects.csv')\n",
    "df = df.rename(columns={'Location_Center_X': 'x', 'Location_Center_Y': 'y'})\n",
    "df = df[['x', 'y', 'ImageNumber']]\n",
    "df['z'] = df['ImageNumber']\n",
    "df['id'] = [0] * len(df.index)\n",
    "df"
   ]
  },
  {
   "cell_type": "code",
   "execution_count": 32,
   "id": "e80c6ca9",
   "metadata": {
    "scrolled": true
   },
   "outputs": [],
   "source": [
    "# adjustable parameters\n",
    "\n",
    "# scale z to determine how much the z dimension impacts the euclidean distance formula\n",
    "df.z *= 5\n",
    "\n",
    "# max distance that two centroids can be apart from each other and be grouped together\n",
    "THRESHOLD = 20"
   ]
  },
  {
   "cell_type": "code",
   "execution_count": 33,
   "id": "b0b863bd",
   "metadata": {},
   "outputs": [],
   "source": [
    "def dist(row_1, row_2): # basic 3-d euclidean distance calculation\n",
    "    x = (row_1[0] - row_2[0])**2\n",
    "    y = (row_1[1] - row_2[1])**2\n",
    "    z = (row_1[3] - row_2[3])**2\n",
    "    return math.sqrt(x + y + z)"
   ]
  },
  {
   "cell_type": "code",
   "execution_count": 34,
   "id": "6dfbeae8",
   "metadata": {},
   "outputs": [],
   "source": [
    "def label_cells(df):\n",
    "    d = df.values.tolist()\n",
    "    idd = 1\n",
    "    for i, row_1 in enumerate(d):\n",
    "        if row_1[4] == 0: # new cell, assign it a group id\n",
    "            row_1[4] = idd\n",
    "            idd += 1\n",
    "        image_1 = row_1[3]\n",
    "        for j, row_2 in enumerate(d):\n",
    "            image_2 = row_2[3]\n",
    "            if image_2 <= image_1: # only look at slices that are ahead of this slice\n",
    "                continue\n",
    "            if row_2[4] != 0: # disregard cells that already have a group\n",
    "                continue\n",
    "            distance = dist(row_1, row_2)\n",
    "            if distance < THRESHOLD: # dist less than thresh, assign to group\n",
    "                row_2[4] = row_1[4]     \n",
    "    return d # returns dataframe in a list of lists format"
   ]
  },
  {
   "cell_type": "code",
   "execution_count": 35,
   "id": "8809786e",
   "metadata": {},
   "outputs": [],
   "source": [
    "def show_cell_ids(d, slice_numbers):\n",
    "    for slice_number in slice_numbers:\n",
    "        # slice number should be 1 more than the number on the path\n",
    "        zeros = '0' * (52 - (44+len(str(slice_number-1))))\n",
    "        img_path = f'profiler_images/D7_010_I5_Before{zeros+str(slice_number-1)}_Overlay.png'\n",
    "        print(img_path)\n",
    "        img = mpimg.imread(img_path)\n",
    "        fig, ax = plt.subplots()\n",
    "        ax.imshow(img)\n",
    "\n",
    "        for r in d:\n",
    "            if r[2] == slice_number: # analyze rows that are in the passed in image\n",
    "                x = r[0]\n",
    "                y = r[1]\n",
    "                idd = str(r[4])\n",
    "                plt.text(x, y, idd, color='white')\n",
    "\n",
    "        plt.show()"
   ]
  },
  {
   "cell_type": "code",
   "execution_count": 57,
   "id": "37ad293c",
   "metadata": {},
   "outputs": [],
   "source": [
    "def save_cell_ids(d):\n",
    "    for i in range(1, 189):\n",
    "        if i-1 == 126: # no image labeled 126\n",
    "            continue\n",
    "        zeros = '0' * (52 - (44+len(str(i-1))))\n",
    "        img_path = f'profiler_images/D7_010_I5_Before{zeros+str(i-1)}_Overlay.png'\n",
    "        img = mpimg.imread(img_path)\n",
    "        fig, ax = plt.subplots()\n",
    "        ax.imshow(img)\n",
    "\n",
    "        for r in d:\n",
    "            if r[2] == i: # analyze rows that are in the passed in image\n",
    "                x = r[0]\n",
    "                y = r[1]\n",
    "                idd = str(r[4])\n",
    "                plt.text(x, y, idd, color='white', fontweight=900)\n",
    "        fig.savefig(f'labeled_images/{i-1}.png')\n",
    "        plt.close(fig)"
   ]
  },
  {
   "cell_type": "code",
   "execution_count": 55,
   "id": "801588c1",
   "metadata": {},
   "outputs": [],
   "source": [
    "def save_cell_ids_orig(d):\n",
    "    for i in range(1, 189):\n",
    "        if i-1 == 126: # no image labeled 126\n",
    "            continue\n",
    "        zeros = '0' * (52 - (44+len(str(i-1))))\n",
    "        img_path = f'original_images/D7_010_I5_Before{zeros+str(i-1)}.jpg'\n",
    "        img = mpimg.imread(img_path)\n",
    "        fig, ax = plt.subplots()\n",
    "        ax.imshow(img)\n",
    "\n",
    "        for r in d:\n",
    "            if r[2] == i: # analyze rows that are in the passed in image\n",
    "                x = r[0]\n",
    "                y = r[1]\n",
    "                idd = str(r[4])\n",
    "                plt.text(x, y, idd, color='white', fontweight=900)\n",
    "        fig.savefig(f'labeled_images_orig/{i-1}.png')\n",
    "        plt.close(fig)"
   ]
  },
  {
   "cell_type": "code",
   "execution_count": 69,
   "id": "439e16a9",
   "metadata": {},
   "outputs": [],
   "source": [
    "def save_as_gif():\n",
    "    image_path = Path('labeled_images')\n",
    "    images = list(image_path.glob('*.png'))\n",
    "    image_list = []\n",
    "    for file_name in sorted(images, key=lambda f: int(str(f)[15:-4])):\n",
    "        image_list.append(imageio.imread(file_name))\n",
    "    imageio.mimwrite('labeled7.gif', image_list, fps=1)"
   ]
  },
  {
   "cell_type": "code",
   "execution_count": 71,
   "id": "b02f1703",
   "metadata": {},
   "outputs": [],
   "source": [
    "def save_as_gif_orig():\n",
    "    image_path = Path('labeled_images_orig')\n",
    "    images = list(image_path.glob('*.png'))\n",
    "    image_list = []\n",
    "    for file_name in sorted(images, key=lambda f: int(str(f)[20:-4])):\n",
    "        image_list.append(imageio.imread(file_name))\n",
    "    imageio.mimwrite('labeled8.gif', image_list, fps=1)"
   ]
  },
  {
   "cell_type": "code",
   "execution_count": 39,
   "id": "5ee7a3dc",
   "metadata": {},
   "outputs": [],
   "source": [
    "def count_cells(d):\n",
    "    # finds the max id, this is the count of unique cells detected\n",
    "    max_id = -1\n",
    "    for r in d:\n",
    "        if r[4] > max_id:\n",
    "            max_id = r[4]\n",
    "    return max_id"
   ]
  },
  {
   "cell_type": "code",
   "execution_count": 40,
   "id": "01c011ba",
   "metadata": {},
   "outputs": [],
   "source": [
    "d = label_cells(df) # takes about 20 seconds to run"
   ]
  },
  {
   "cell_type": "code",
   "execution_count": 41,
   "id": "03e6f489",
   "metadata": {},
   "outputs": [
    {
     "data": {
      "text/plain": [
       "254"
      ]
     },
     "execution_count": 41,
     "metadata": {},
     "output_type": "execute_result"
    }
   ],
   "source": [
    "count_cells(d)"
   ]
  },
  {
   "cell_type": "code",
   "execution_count": 70,
   "id": "4a7eeae6",
   "metadata": {
    "scrolled": true
   },
   "outputs": [],
   "source": [
    "save_as_gif() # save the labeled images to a gif"
   ]
  },
  {
   "cell_type": "code",
   "execution_count": 72,
   "id": "ec42b6fc",
   "metadata": {},
   "outputs": [],
   "source": [
    "save_as_gif_orig() # save the labeled images using original images to a gif"
   ]
  },
  {
   "cell_type": "code",
   "execution_count": 48,
   "id": "aded521c",
   "metadata": {},
   "outputs": [
    {
     "name": "stdout",
     "output_type": "stream",
     "text": [
      "profiler_images/D7_010_I5_Before00000000_Overlay.png\n"
     ]
    },
    {
     "data": {
      "image/png": "[encoded data removed]",
      "text/plain": [
       "<Figure size 432x288 with 1 Axes>"
      ]
     },
     "metadata": {
      "needs_background": "light"
     },
     "output_type": "display_data"
    }
   ],
   "source": [
    "slice_num = [1] # put any image numbers in to see labeled cells with their ids (image indices starts at 1)\n",
    "\n",
    "show_cell_ids(d, slice_num)"
   ]
  },
  {
   "cell_type": "code",
   "execution_count": 56,
   "id": "0f5af540",
   "metadata": {
    "scrolled": false
   },
   "outputs": [],
   "source": [
    "save_cell_ids_orig(d) # saves all the labeled images using the base original images"
   ]
  },
  {
   "cell_type": "code",
   "execution_count": 58,
   "id": "fd22d195",
   "metadata": {},
   "outputs": [],
   "source": [
    "save_cell_ids(d) # saves all the labeled images using the base filtered images"
   ]
  }
 ],
 "metadata": {
  "kernelspec": {
   "display_name": "Python 3",
   "language": "python",
   "name": "python3"
  },
  "language_info": {
   "codemirror_mode": {
    "name": "ipython",
    "version": 3
   },
   "file_extension": ".py",
   "mimetype": "text/x-python",
   "name": "python",
   "nbconvert_exporter": "python",
   "pygments_lexer": "ipython3",
   "version": "3.8.5"
  }
 },
 "nbformat": 4,
 "nbformat_minor": 5
}
